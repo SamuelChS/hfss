{
  "nbformat": 4,
  "nbformat_minor": 0,
  "metadata": {
    "colab": {
      "provenance": []
    },
    "kernelspec": {
      "name": "python3",
      "display_name": "Python 3"
    },
    "language_info": {
      "name": "python"
    }
  },
  "cells": [
    {
      "cell_type": "markdown",
      "source": [
        "O notebook calcula a permissividade elétrica de misturas de etanol, levando em conta sua dependência da frequência. As estimativas são então exportadas em um arquivo .tab para serem importadas no HFSS.\n",
        "\n"
      ],
      "metadata": {
        "id": "Zy8Me6B2X0Z9"
      }
    },
    {
      "cell_type": "code",
      "execution_count": null,
      "metadata": {
        "id": "FEDV1zIXGg5L"
      },
      "outputs": [],
      "source": [
        "# Importa as bibliotecas\n",
        "import numpy as np\n",
        "import matplotlib.pyplot as plt\n",
        "import pandas as pd\n",
        "from numpy.polynomial.polynomial import Polynomial\n",
        "from sklearn.metrics import r2_score, mean_absolute_error, mean_squared_error\n",
        "from google.colab import files\n",
        "import ipywidgets as widgets\n",
        "from IPython.display import display\n",
        "import os\n",
        "import zipfile\n",
        "import shutil"
      ]
    },
    {
      "cell_type": "code",
      "source": [
        "# Create input fields for frequency range\n",
        "text_freq_start = widgets.FloatText(value=6.0, description='Start Frequency (GHz):')\n",
        "text_freq_end = widgets.FloatText(value=8.0, description='End Frequency (GHz):')\n",
        "text_freq_step = widgets.FloatText(value=1.0, description='Step Frequency (MHz):')\n",
        "\n",
        "# Function to update freq and omega based on input\n",
        "def update_frequency_range(b):\n",
        "    try:\n",
        "        start_freq_ghz = text_freq_start.value\n",
        "        end_freq_ghz = text_freq_end.value\n",
        "        step_freq_mhz = text_freq_step.value\n",
        "\n",
        "        # Convert to Hz\n",
        "        start_freq_hz = start_freq_ghz * 1e9\n",
        "        end_freq_hz = end_freq_ghz * 1e9\n",
        "        step_freq_hz = step_freq_mhz * 1e6\n",
        "\n",
        "        # Define frequency range\n",
        "        global freq, omega\n",
        "        freq = np.arange(start_freq_hz, end_freq_hz + step_freq_hz/2, step_freq_hz)\n",
        "        omega = 2 * np.pi * freq\n",
        "\n",
        "        print(f\"Frequency range updated from {start_freq_ghz} GHz to {end_freq_ghz} GHz with step {step_freq_mhz} MHz.\")\n",
        "\n",
        "    except ValueError:\n",
        "        print(\"Invalid input. Please enter numerical values for frequencies.\")\n",
        "\n",
        "# Add a button to update the frequency range\n",
        "button_update = widgets.Button(description=\"Update Frequency Range\")\n",
        "button_update.on_click(update_frequency_range)\n",
        "\n",
        "# Display the input fields and button\n",
        "display(text_freq_start, text_freq_end, text_freq_step, button_update)"
      ],
      "metadata": {
        "id": "AbMu5HVeUhYM"
      },
      "execution_count": null,
      "outputs": []
    },
    {
      "cell_type": "code",
      "source": [
        "# Create input fields for ethanol fraction range\n",
        "text_fraction_start = widgets.FloatText(value=0.0, description='Start Fraction:')\n",
        "text_fraction_end = widgets.FloatText(value=1.0, description='End Fraction:')\n",
        "text_fraction_step = widgets.FloatText(value=0.02, description='Step Fraction:')\n",
        "\n",
        "# Function to update fractions based on input\n",
        "def update_fractions(b):\n",
        "    try:\n",
        "        start_fraction = text_fraction_start.value\n",
        "        end_fraction = text_fraction_end.value\n",
        "        step_fraction = text_fraction_step.value\n",
        "\n",
        "        # Define fractions range\n",
        "        global fractions\n",
        "        fractions = np.round(np.arange(start_fraction, end_fraction + step_fraction/2, step_fraction), 2)\n",
        "\n",
        "        print(f\"Ethanol fractions updated from {start_fraction} to {end_fraction} with step {step_fraction}.\")\n",
        "        # Display the updated fractions (optional)\n",
        "        # print(fractions)\n",
        "\n",
        "    except ValueError:\n",
        "        print(\"Invalid input. Please enter numerical values for fractions.\")\n",
        "\n",
        "# Add a button to update the fractions\n",
        "button_update_fractions = widgets.Button(description=\"Update Fractions\")\n",
        "button_update_fractions.on_click(update_fractions)\n",
        "\n",
        "# Display the input fields and button\n",
        "display(text_fraction_start, text_fraction_end, text_fraction_step, button_update_fractions)"
      ],
      "metadata": {
        "id": "DWgozyy8VPdu"
      },
      "execution_count": null,
      "outputs": []
    },
    {
      "cell_type": "code",
      "source": [
        "# Modelo de Debye para gasolina e etanol\n",
        "materiais = {\n",
        "    \"Gasolina\": [2.12, 1.94, 3.18e-12],\n",
        "    \"Etanol\":   [24.35, 2.12, 161e-12],\n",
        "}\n",
        "\n",
        "eps_s_gas, eps_inf_gas, tau_gas = materiais[\"Gasolina\"]\n",
        "eps_s_eta, eps_inf_eta, tau_eta = materiais[\"Etanol\"]\n",
        "\n",
        "eps_gas = eps_inf_gas + (eps_s_gas - eps_inf_gas) / (1 + 1j * omega * tau_gas)\n",
        "eps_eta = eps_inf_eta + (eps_s_eta - eps_inf_eta) / (1 + 1j * omega * tau_eta)\n",
        "\n",
        "# Dicionários para armazenar resultados\n",
        "mistura_real = {}\n",
        "mistura_tand = {}\n",
        "\n",
        "for v_eta in fractions:\n",
        "    v_gas = 1 - v_eta\n",
        "\n",
        "    # Modelo cúbico de mistura\n",
        "    eps_mix = (v_eta * np.power(eps_eta, 1/3) + v_gas * np.power(eps_gas, 1/3)) ** 3\n",
        "\n",
        "    # Separação das partes real e imaginária\n",
        "    eps_real = np.real(eps_mix)\n",
        "    eps_imag = np.imag(eps_mix)\n",
        "    tan_delta = np.abs(eps_imag) / eps_real\n",
        "\n",
        "    key = f\"{int(v_eta * 100):03d}\"  # Ex: '000', '010', ..., '100'\n",
        "    mistura_real[key] = eps_real\n",
        "    mistura_tand[key] = tan_delta"
      ],
      "metadata": {
        "id": "A3yfKMYPIEJq"
      },
      "execution_count": null,
      "outputs": []
    },
    {
      "cell_type": "code",
      "source": [
        "# Dicionários para armazenar resultados\n",
        "mistura_real = {}     # Parte real da permissividade\n",
        "mistura_tand = {}     # Tangente de perdas\n",
        "\n",
        "for v_eta in fractions:\n",
        "    v_gas = 1 - v_eta\n",
        "\n",
        "    # Modelo cúbico de mistura\n",
        "    eps_mix = (v_eta * np.power(eps_eta, 1/3) + v_gas * np.power(eps_gas, 1/3)) ** 3\n",
        "\n",
        "    # Separação das partes real e imaginária\n",
        "    eps_real = np.real(eps_mix)\n",
        "    eps_imag = np.imag(eps_mix)\n",
        "    tan_delta = np.abs(eps_imag) / eps_real\n",
        "\n",
        "    # Armazenar nos dicionários\n",
        "    key = f\"{int(v_eta * 100):03d}\"  # Ex: '000', '010', ..., '100'\n",
        "    mistura_real[key] = eps_real\n",
        "    mistura_tand[key] = tan_delta\n"
      ],
      "metadata": {
        "id": "BuPv1to1Odvx"
      },
      "execution_count": null,
      "outputs": []
    },
    {
      "cell_type": "code",
      "source": [
        "def exportar_tab(v_eta_str):\n",
        "    if v_eta_str not in mistura_real:\n",
        "        print(f\"Erro: fração '{v_eta_str}' não encontrada. Use '000', '010', ..., '100'.\")\n",
        "        return\n",
        "\n",
        "    valor_porcentagem = int(v_eta_str)\n",
        "    inteiro = valor_porcentagem // 10\n",
        "    decimal = valor_porcentagem % 10\n",
        "    nome_porcentagem = f\"E{inteiro*10}_{decimal}\"\n",
        "\n",
        "    eps_r = mistura_real[v_eta_str]\n",
        "    tand = mistura_tand[v_eta_str]\n",
        "\n",
        "    # Gerar nomes de arquivos\n",
        "    arquivo_eps = f\"eps_{nome_porcentagem}.tab\"\n",
        "    arquivo_tand = f\"tan_delta_{nome_porcentagem}.tab\"\n",
        "\n",
        "    # Salvar ambos com notação científica e 6 casas decimais\n",
        "    np.savetxt(arquivo_eps, np.column_stack((freq, eps_r)), delimiter=\"\\t\", fmt=\"%.6e\")\n",
        "    np.savetxt(arquivo_tand, np.column_stack((freq, tand)), delimiter=\"\\t\", fmt=\"%.6e\")\n",
        "\n",
        "\n",
        "    print(f\"Arquivos exportados:\\n- {arquivo_eps}\\n- {arquivo_tand}\")\n"
      ],
      "metadata": {
        "id": "-Lcp6Lf4O0YC"
      },
      "execution_count": null,
      "outputs": []
    },
    {
      "cell_type": "code",
      "source": [
        "exportar_tab(\"010\")"
      ],
      "metadata": {
        "id": "TE4CWuq6O2eY"
      },
      "execution_count": null,
      "outputs": []
    },
    {
      "cell_type": "code",
      "source": [
        "# Parâmetros do modelo de Debye\n",
        "materiais = {\n",
        "    \"Gasolina\": [2.12, 1.94, 3.18e-12],\n",
        "    \"Etanol\":   [24.35, 2.12, 161e-12],\n",
        "}\n",
        "\n",
        "eps_s_gas, eps_inf_gas, tau_gas = materiais[\"Gasolina\"]\n",
        "eps_s_eta, eps_inf_eta, tau_eta = materiais[\"Etanol\"]\n",
        "\n",
        "# Cálculo da permissividade complexa\n",
        "eps_gas = eps_inf_gas + (eps_s_gas - eps_inf_gas) / (1 + 1j * omega * tau_gas)\n",
        "eps_eta = eps_inf_eta + (eps_s_eta - eps_inf_eta) / (1 + 1j * omega * tau_eta)\n",
        "\n",
        "# Dicionários para armazenar os resultados\n",
        "mistura_real = {}\n",
        "mistura_tand = {}\n",
        "\n",
        "# Cálculo da mistura e extração de parte real e tangente de perdas\n",
        "for v_eta in fractions:\n",
        "    v_gas = 1 - v_eta\n",
        "    eps_mix = (v_eta * np.power(eps_eta, 1/3) + v_gas * np.power(eps_gas, 1/3)) ** 3\n",
        "\n",
        "    eps_real = np.real(eps_mix)\n",
        "    eps_imag = np.imag(eps_mix)\n",
        "    tan_delta = np.abs(eps_imag) / eps_real\n",
        "\n",
        "    key = f\"{round(v_eta * 100):03d}\"\n",
        "    mistura_real[key] = eps_real\n",
        "    mistura_tand[key] = tan_delta\n",
        "\n",
        "# Exportação de arquivos individuais para uma dada mistura\n",
        "def exportar_tab(v_eta_str):\n",
        "    if v_eta_str not in mistura_real:\n",
        "        print(f\"Erro: fração '{v_eta_str}' não encontrada. Use '000', '010', ..., '100'.\")\n",
        "        return\n",
        "\n",
        "    valor_porcentagem = int(v_eta_str)\n",
        "    inteiro = valor_porcentagem // 10\n",
        "    decimal = valor_porcentagem % 10\n",
        "    nome_porcentagem = f\"E{inteiro*10}_{decimal}\"\n",
        "\n",
        "    eps_r = mistura_real[v_eta_str]\n",
        "    tand = mistura_tand[v_eta_str]\n",
        "\n",
        "    arquivo_eps = f\"eps_{nome_porcentagem}.tab\"\n",
        "    arquivo_tand = f\"tan_delta_{nome_porcentagem}.tab\"\n",
        "\n",
        "    np.savetxt(arquivo_eps, np.column_stack((freq, eps_r)), delimiter=\"\\t\", fmt=\"%.6e\")\n",
        "    np.savetxt(arquivo_tand, np.column_stack((freq, tand)), delimiter=\"\\t\", fmt=\"%.6e\")\n",
        "\n",
        "    print(f\"Arquivos exportados:\\n- {arquivo_eps}\\n- {arquivo_tand}\")\n",
        "\n",
        "# Formata nomes como \"E0\", \"E50\", \"E100\"\n",
        "def formatar_nome_dir(v_eta_str):\n",
        "    return f\"E{int(v_eta_str)}\"\n",
        "\n",
        "# Exportação total em pastas e compactação em ZIP\n",
        "def exportar_pastas_zip():\n",
        "    pasta_base = \"exportados\"\n",
        "\n",
        "    if os.path.exists(pasta_base):\n",
        "        shutil.rmtree(pasta_base)\n",
        "    os.makedirs(pasta_base)\n",
        "\n",
        "    for v_eta_str in mistura_real.keys():\n",
        "        nome_dir = formatar_nome_dir(v_eta_str)\n",
        "        pasta_mistura = os.path.join(pasta_base, nome_dir)\n",
        "        os.makedirs(pasta_mistura)\n",
        "\n",
        "        eps_r = mistura_real[v_eta_str]\n",
        "        tand = mistura_tand[v_eta_str]\n",
        "\n",
        "        arq_eps = os.path.join(pasta_mistura, f\"{nome_dir}_eps.tab\")\n",
        "        arq_tand = os.path.join(pasta_mistura, f\"{nome_dir}_tan_delta.tab\")\n",
        "\n",
        "        np.savetxt(arq_eps, np.column_stack((freq, eps_r)), delimiter=\"\\t\", fmt=\"%.6e\")\n",
        "        np.savetxt(arq_tand, np.column_stack((freq, tand)), delimiter=\"\\t\", fmt=\"%.6e\")\n",
        "\n",
        "        print(f\"✓ Arquivos salvos em: {pasta_mistura}\")\n",
        "\n",
        "    zip_path = f\"{pasta_base}.zip\"\n",
        "    shutil.make_archive(pasta_base, 'zip', pasta_base)\n",
        "    print(f\"\\n📦 ZIP gerado: {zip_path}\")\n"
      ],
      "metadata": {
        "id": "fLy5ppxLRXw6"
      },
      "execution_count": null,
      "outputs": []
    },
    {
      "cell_type": "code",
      "source": [
        "    # Executar\n",
        "    exportar_pastas_zip()"
      ],
      "metadata": {
        "id": "ne7PywKO48GE"
      },
      "execution_count": null,
      "outputs": []
    },
    {
      "cell_type": "code",
      "source": [
        "import matplotlib.pyplot as plt\n",
        "\n",
        "# Lista ordenada de chaves (ex: ['000', '010', ..., '100'])\n",
        "chaves = sorted(mistura_real.keys())\n",
        "\n",
        "# Calculate the number of rows needed for 2 columns\n",
        "num_fractions = len(chaves)\n",
        "nrows = (num_fractions * 2 + 1) // 2 # Two plots per fraction, 2 columns\n",
        "\n",
        "fig, axes = plt.subplots(nrows=nrows, ncols=2, figsize=(12, nrows * 2.5), sharex=True)\n",
        "axes = axes.flatten()\n",
        "\n",
        "for i, key in enumerate(chaves):\n",
        "    nome = f\"E{int(key)}\"  # Ex: 'E0', 'E10', etc.\n",
        "\n",
        "    # Plot ε′(f)\n",
        "    ax_eps = axes[i * 2]\n",
        "    ax_eps.plot(freq / 1e9, mistura_real[key])\n",
        "    ax_eps.set_title(f\"{nome} — ε′\")\n",
        "    ax_eps.set_ylabel(\"ε′\")\n",
        "    ax_eps.grid(True)\n",
        "\n",
        "    # Plot tan δ(f)\n",
        "    ax_tand = axes[i * 2 + 1]\n",
        "    ax_tand.plot(freq / 1e9, mistura_tand[key])\n",
        "    ax_tand.set_title(f\"{nome} — tan δ\")\n",
        "    ax_tand.set_ylabel(\"tan δ\")\n",
        "    ax_tand.grid(True)\n",
        "\n",
        "# Eixo x comum só no final\n",
        "for ax in axes[-2:]:\n",
        "    ax.set_xlabel(\"Frequência (GHz)\")\n",
        "\n",
        "plt.tight_layout()\n",
        "plt.show()"
      ],
      "metadata": {
        "id": "VUsQJk-e4bHC"
      },
      "execution_count": null,
      "outputs": []
    }
  ]
}